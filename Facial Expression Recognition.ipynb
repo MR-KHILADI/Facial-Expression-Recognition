{
 "cells": [
  {
   "cell_type": "code",
   "execution_count": 1,
   "metadata": {},
   "outputs": [],
   "source": [
    "import pandas as pd\n",
    "import matplotlib.pyplot as plt\n",
    "import numpy as np\n",
    "from sklearn.cluster import KMeans\n",
    "from sklearn.metrics import confusion_matrix\n",
    "from sklearn.linear_model import LogisticRegression\n",
    "from sklearn.utils import class_weight\n",
    "import sklearn\n",
    "from sklearn.metrics import accuracy_score\n",
    "\n"
   ]
  },
  {
   "cell_type": "code",
   "execution_count": 2,
   "metadata": {},
   "outputs": [],
   "source": [
    "### Classes: 0=Angry, 1=Disgust, 2=Fear, 3=Happy, 4=Sad, 5=Surprise, 6=Neutral"
   ]
  },
  {
   "cell_type": "code",
   "execution_count": 3,
   "metadata": {},
   "outputs": [],
   "source": [
    "## Data Loading and Splitting\n",
    "data=pd.read_csv(\"../FaceRecognition.csv\")\n",
    "data=data.drop(columns='Unnamed: 0')\n",
    "Train_data=data[data['X2306']=='Training'].drop(columns='X2306')\n",
    "Test_data=data[data['X2306']=='PrivateTest'].drop(columns='X2306')\n",
    "Train_labels=Train_data.iloc[:,0].values\n",
    "Test_labels=Test_data.iloc[:,0].values\n",
    "Train_data=Train_data.drop(columns='X1').values\n",
    "Test_data=Test_data.drop(columns='X1').values\n"
   ]
  },
  {
   "cell_type": "code",
   "execution_count": 4,
   "metadata": {},
   "outputs": [],
   "source": [
    "def vectortoimg(v,show=True):\n",
    "    plt.imshow(v.reshape(48, 48),interpolation='None', cmap='gray')\n",
    "    plt.axis('off')\n",
    "    if show:\n",
    "        plt.show()"
   ]
  },
  {
   "cell_type": "code",
   "execution_count": 30,
   "metadata": {},
   "outputs": [],
   "source": [
    "### Applying PCA for Dimension Reduction\n",
    "def PCA(Training_Data, Testing_Data, threshold):\n",
    "    meanvector=np.mean(Training_Data,axis=0)\n",
    "    Z_Train=Training_Data-meanvector\n",
    "    Z_Test=Testing_Data-meanvector\n",
    "    C_Train=np.cov(Z_Train.T)  ## Check the shape, should be square matrix with dimensions as number of features : here 2304\n",
    "    Eigenvalues,Eigenvectors=np.linalg.eigh(C_Train)\n",
    "    #print('Largest Eigen Value is at Last Index '+str(np.argmax(Eigenvalues)))  ## Largest Eigen Value is at the last index. So, Flipping is required   \n",
    "    row=Eigenvectors[-1,:];\n",
    "    col=Eigenvectors[:,-1];\n",
    "    #print(\"Row dot product value: Max/Min \" + str(max(np.dot(C_Train,row)-(Eigenvalues[-1]*row)))) ## Rows are not eigen vectors\n",
    "    #print (\"Column dot product value: Max/Min\"+str(max(np.dot(C_Train,col)-(Eigenvalues[-1]*col))))  #### matrix* EigenVector==EigenValue* EigenVector ,Therefore, Columns are EigenVectors\n",
    "    ## Columns are Eigen Vectors. Taking Transpose and Inverse\n",
    "    Eigenvalues=np.flipud(Eigenvalues)\n",
    "    Eigenvectors=np.flipud(Eigenvectors.T)\n",
    "    row=Eigenvectors[0,:]\n",
    "    ## Sanity Checks\n",
    "    #min(np.dot(C_Train,row)-(Eigenvalues[0]*row))  ## Rows are eigen vectors here \n",
    "    #np.allclose(np.dot(C_Train,row),Eigenvalues[0]*row)  ## Check 2  ## We finally got ordered Eigen Vectors and Eigen Values\n",
    "    prin_comp_train=np.dot(Z_Train,Eigenvectors.T)   ### We always have to find principle components this way for Training Data Set\n",
    "    prin_comp_test=np.dot(Z_Test, Eigenvectors.T)\n",
    "    #print('shape of principle_comp_matrix is '+ str(prin_comp.shape))\n",
    "    cumulative_variance=[]\n",
    "    temp=0.0\n",
    "    E_sum=np.sum(Eigenvalues)\n",
    "    for i in Eigenvalues:\n",
    "        temp=temp+i\n",
    "        cumulative_variance.append(temp*100/E_sum)\n",
    "    pca_num_components=len(list(filter(lambda x: x <= threshold, cumulative_variance))) \n",
    "    Train_pca=pd.DataFrame(prin_comp_train[:,:pca_num_components])\n",
    "    Test_pca=pd.DataFrame(prin_comp_test[:,:pca_num_components])\n",
    "\n",
    "    \n",
    "    print('type: numpy.ndarray')\n",
    "    return Train_pca, Test_pca\n",
    "\n"
   ]
  },
  {
   "cell_type": "code",
   "execution_count": 31,
   "metadata": {},
   "outputs": [
    {
     "name": "stdout",
     "output_type": "stream",
     "text": [
      "type: numpy.ndarray\n"
     ]
    }
   ],
   "source": [
    "Train_pca, Test_pca=PCA(Train_data, Test_data,threshold=75)"
   ]
  },
  {
   "cell_type": "code",
   "execution_count": 64,
   "metadata": {},
   "outputs": [],
   "source": [
    "\n",
    "from scipy.spatial.distance import cdist\n",
    "def clusters_purity(Train_pca,Train_labels):\n",
    "    cluster_purity=[]\n",
    "    K = range(1,10)\n",
    "    for k in K:\n",
    "        kmeanModel = KMeans(n_clusters=k).fit(Train_pca)\n",
    "        kmeanModel.fit(Train_pca)\n",
    "        kmeanModel.labels=pd.DataFrame(kmeanModel.labels_)\n",
    "        cm=confusion_matrix(kmeanModel.labels_,Train_labels)\n",
    "        cluster_purity.append(np.sum(np.amax(cm, axis=0))/sum(sum(cm)))\n",
    "    return cluster_purity\n",
    "        \n",
    "        \n"
   ]
  },
  {
   "cell_type": "code",
   "execution_count": 65,
   "metadata": {},
   "outputs": [],
   "source": [
    "cluster_purity=clusters_purity(Train_pca, Train_labels)"
   ]
  },
  {
   "cell_type": "code",
   "execution_count": 67,
   "metadata": {},
   "outputs": [
    {
     "data": {
      "image/png": "[encoded data removed]",
      "text/plain": [
       "<Figure size 432x288 with 1 Axes>"
      ]
     },
     "metadata": {
      "needs_background": "light"
     },
     "output_type": "display_data"
    }
   ],
   "source": [
    "plt.plot(K, cluster_purity, 'bx-')\n",
    "plt.xlabel('k')\n",
    "plt.ylabel('cluster purity')\n",
    "plt.title('The Elbow Method showing the optimal k')\n",
    "plt.show()\n"
   ]
  },
  {
   "cell_type": "code",
   "execution_count": 76,
   "metadata": {},
   "outputs": [],
   "source": [
    "Train_pca['labels']=Train_labels\n",
    "Test_pca['labels']=Test_labels"
   ]
  },
  {
   "cell_type": "code",
   "execution_count": 84,
   "metadata": {},
   "outputs": [
    {
     "ename": "AttributeError",
     "evalue": "'numpy.ndarray' object has no attribute 'iloc'",
     "output_type": "error",
     "traceback": [
      "\u001b[1;31m---------------------------------------------------------------------------\u001b[0m",
      "\u001b[1;31mAttributeError\u001b[0m                            Traceback (most recent call last)",
      "\u001b[1;32m<ipython-input-84-19b3cf2ed77e>\u001b[0m in \u001b[0;36m<module>\u001b[1;34m\u001b[0m\n\u001b[1;32m----> 1\u001b[1;33m \u001b[0mTrain_data\u001b[0m\u001b[1;33m.\u001b[0m\u001b[0miloc\u001b[0m\u001b[1;33m[\u001b[0m\u001b[1;33m:\u001b[0m\u001b[1;33m,\u001b[0m\u001b[1;33m:\u001b[0m\u001b[1;33m-\u001b[0m\u001b[1;36m1\u001b[0m\u001b[1;33m]\u001b[0m\u001b[1;33m\u001b[0m\u001b[1;33m\u001b[0m\u001b[0m\n\u001b[0m",
      "\u001b[1;31mAttributeError\u001b[0m: 'numpy.ndarray' object has no attribute 'iloc'"
     ]
    }
   ],
   "source": []
  },
  {
   "cell_type": "code",
   "execution_count": 91,
   "metadata": {},
   "outputs": [
    {
     "name": "stdout",
     "output_type": "stream",
     "text": [
      "-------------------------------------------------------------------------------------\n",
      "Train_PPV Desc: [       nan 0.36786469 0.31768334 0.29697525 0.27930239 0.25722543\n",
      " 0.2311828 ]\n",
      "Train_PPV Class Desc: [1 5 3 6 4 0 2]\n",
      "PPV- 7 class classifier: 0.14285714285714285\n",
      "Accuracy of linear Classifier for Training Set is: 0.3140478595562367\n",
      "-------------------------------------------------------------------------------------\n",
      "-------------------------------------------------------------------------------------\n",
      "Test_PPV Desc: [       nan 0.36363636 0.36320755 0.32110529 0.28473804 0.2716763\n",
      " 0.13207547]\n",
      "Test_PPV Class Desc: [1 0 5 3 6 4 2]\n",
      "PPV- 7 class classifier: 0.14285714285714285\n",
      "Accuracy of linear Classifier for Test Set is: 0.3123432711061577\n",
      "-------------------------------------------------------------------------------------\n"
     ]
    },
    {
     "name": "stderr",
     "output_type": "stream",
     "text": [
      "C:\\Users\\Mr.Khiladi\\Anaconda3\\lib\\site-packages\\ipykernel_launcher.py:33: RuntimeWarning: invalid value encountered in true_divide\n",
      "C:\\Users\\Mr.Khiladi\\Anaconda3\\lib\\site-packages\\ipykernel_launcher.py:35: RuntimeWarning: invalid value encountered in true_divide\n"
     ]
    }
   ],
   "source": [
    "##### Linear Classifier ##########\n",
    "### Encoding the Target Labels\n",
    "#def linear_classifier(Train_pca, Train_labels, Test_pca, Test_labels):\n",
    "    \n",
    "Targets_six = np.zeros((Train_pca.shape[0], max(Train_labels)+1))\n",
    "Targets_six[np.arange(Train_pca.shape[0]), Train_labels] = 1\n",
    "\n",
    "    ### Preparing augmented matrix\n",
    "xa_train=Train_pca.iloc[:,:-1]\n",
    "xa_train.insert(0,column='ones',value=1)\n",
    "xa_test=Test_pca.iloc[:,:-1]\n",
    "xa_test.insert(0,column='ones',value=1)\n",
    "\n",
    "    #### Weights\n",
    "weights_six=np.dot(np.linalg.pinv(xa_train.values),Targets_six)\n",
    "\n",
    "    ### Training \n",
    "pass_train=np.dot(xa_train,weights_six)\n",
    "train_passed_labels=[]\n",
    "for i in range(len(pass_train)):\n",
    "    train_passed_labels.append(np.argmax(pass_train[i,:]))\n",
    "train_passed_labels=np.array(train_passed_labels)\n",
    "    \n",
    "    ## Testing\n",
    "pass_test=np.dot(xa_test,weights_six)\n",
    "test_passed_labels=[]\n",
    "for i in range(len(pass_test)):\n",
    "    test_passed_labels.append(np.argmax(pass_test[i,:]))\n",
    "test_passed_labels=np.array(test_passed_labels)\n",
    "    \n",
    "\n",
    "cm_train=confusion_matrix(Train_labels,train_passed_labels,labels=[0,1,2,3,4,5,6])\n",
    "ppv_table_train=cm_train/np.sum(cm_train,axis=0)\n",
    "cm_test=confusion_matrix(Test_labels,test_passed_labels,labels=[0,1,2,3,4,5,6])\n",
    "ppv_table_test=cm_test/np.sum(cm_test,axis=0)\n",
    "print('-------------------------------------------------------------------------------------')\n",
    "print('Train_PPV Desc: ' + str(np.sort(ppv_table_train.diagonal())[::-1]))\n",
    "print('Train_PPV Class Desc: ' + str(np.argsort(ppv_table_train.diagonal())[::-1]))\n",
    "print('PPV- 7 class classifier: ' + str(1/7) )\n",
    "print('Accuracy of linear Classifier for Training Set is: ' +str(accuracy_score(Train_labels,train_passed_labels)))\n",
    "print('-------------------------------------------------------------------------------------')\n",
    "print('-------------------------------------------------------------------------------------')\n",
    "print('Test_PPV Desc: ' + str(np.sort(ppv_table_test.diagonal())[::-1]))\n",
    "print('Test_PPV Class Desc: ' + str(np.argsort(ppv_table_test.diagonal())[::-1]))\n",
    "print('PPV- 7 class classifier: ' + str(1/7) )\n",
    "print('Accuracy of linear Classifier for Test Set is: ' +str(accuracy_score(Test_labels,test_passed_labels)))\n",
    "print('-------------------------------------------------------------------------------------')\n",
    "    \n",
    "    \n",
    "\n"
   ]
  },
  {
   "cell_type": "code",
   "execution_count": 92,
   "metadata": {},
   "outputs": [
    {
     "data": {
      "text/plain": [
       "array([[  89,    0,   66, 2389,  629,  405,  417],\n",
       "       [   5,    0,   10,  282,   58,   47,   34],\n",
       "       [  66,    0,   86, 2334,  566,  629,  416],\n",
       "       [  36,    0,   53, 5562,  673,  365,  526],\n",
       "       [  75,    0,   56, 2690, 1089,  305,  615],\n",
       "       [  32,    0,   55, 1345,  228, 1218,  293],\n",
       "       [  43,    0,   46, 2906,  656,  342,  972]], dtype=int64)"
      ]
     },
     "execution_count": 92,
     "metadata": {},
     "output_type": "execute_result"
    }
   ],
   "source": [
    "cm_train"
   ]
  },
  {
   "cell_type": "code",
   "execution_count": 90,
   "metadata": {},
   "outputs": [
    {
     "name": "stdout",
     "output_type": "stream",
     "text": [
      "-------------------------------------------------------------------------------------\n",
      "Train_PPV Desc: [       nan 0.36786469 0.31768334 0.29697525 0.27930239 0.25722543\n",
      " 0.2311828 ]\n",
      "Train_PPV Class Desc: [1 5 3 6 4 0 2]\n",
      "PPV- 7 class classifier: 0.14285714285714285\n",
      "Accuracy of linear Classifier for Training Set is: 0.3140478595562367\n",
      "-------------------------------------------------------------------------------------\n",
      "-------------------------------------------------------------------------------------\n",
      "Test_PPV Desc: [       nan 0.36363636 0.36320755 0.32110529 0.28473804 0.2716763\n",
      " 0.13207547]\n",
      "Test_PPV Class Desc: [1 0 5 3 6 4 2]\n",
      "PPV- 7 class classifier: 0.14285714285714285\n",
      "Accuracy of linear Classifier for Test Set is: 0.3123432711061577\n",
      "-------------------------------------------------------------------------------------\n"
     ]
    },
    {
     "name": "stderr",
     "output_type": "stream",
     "text": [
      "C:\\Users\\Mr.Khiladi\\Anaconda3\\lib\\site-packages\\ipykernel_launcher.py:32: RuntimeWarning: invalid value encountered in true_divide\n",
      "C:\\Users\\Mr.Khiladi\\Anaconda3\\lib\\site-packages\\ipykernel_launcher.py:34: RuntimeWarning: invalid value encountered in true_divide\n"
     ]
    }
   ],
   "source": [
    "linear_classifier(Train_pca, Train_labels, Test_pca, Test_labels)"
   ]
  },
  {
   "cell_type": "code",
   "execution_count": 106,
   "metadata": {},
   "outputs": [],
   "source": [
    "## Logistic Regression\n",
    "import sklearn\n",
    "def log_reg(Train_Data, Train_Labels, Test_Data, Test_Labels):\n",
    "    class_weight=sklearn.utils.class_weight.compute_class_weight('balanced',np.unique(Train_Labels),Train_Labels)\n",
    "    class_weight = {key: value for (key, value) in zip(range(6),class_weight)}\n",
    "\n",
    "#### Model ##########\n",
    "\n",
    "    logreg = LogisticRegression(C=1e10, solver='newton-cg', multi_class='multinomial',random_state=1234,class_weight=class_weight)\n",
    "    logreg.fit(Train_Data.iloc[:,:-1], Train_Labels)\n",
    "\n",
    "### Predict\n",
    "    log_train_pred=logreg.predict(Train_Data.iloc[:,:-1])\n",
    "    log_test_pred=logreg.predict(Test_Data.iloc[:,:-1])\n",
    "\n",
    "## Confusion Matrix\n",
    "    cm_train=confusion_matrix(Train_Labels,log_train_pred,labels=[0,1,2,3,4,5,6])\n",
    "    cm_test=confusion_matrix(Test_Labels,log_test_pred,labels=[0,1,2,3,4,5,6])\n",
    "\n",
    "    #### PPV\n",
    "\n",
    "    ppv_table_train=cm_train/np.sum(cm_train,axis=0)\n",
    "    ppv_table_test=cm_test/np.sum(cm_test,axis=0)\n",
    "\n",
    "    print('-------------------------------------------------------------------------------------')\n",
    "    print('Train_PPV Desc: ' + str(np.sort(ppv_table_train.diagonal())[::-1]))\n",
    "    print('Train_PPV Class Desc: ' + str(np.argsort(ppv_table_train.diagonal())[::-1]))\n",
    "    print('PPV- 7 class classifier: ' + str(1/7) )\n",
    "    print('Accuracy of logistic regression Classifier for Training Set is: ' +str(accuracy_score(Train_Labels,train_passed_labels)))\n",
    "    print('-------------------------------------------------------------------------------------')\n",
    "    print('-------------------------------------------------------------------------------------')\n",
    "    print('Test_PPV Desc: ' + str(np.sort(ppv_table_test.diagonal())[::-1]))\n",
    "    print('Test_PPV Class Desc: ' + str(np.argsort(ppv_table_test.diagonal())[::-1]))\n",
    "    print('PPV- 7 class classifier: ' + str(1/7) )\n",
    "    print('Accuracy of logistic regression Classifier for Test Set is: ' +str(accuracy_score(Test_Labels,test_passed_labels)))\n",
    "    print('-------------------------------------------------------------------------------------')\n",
    "    "
   ]
  },
  {
   "cell_type": "code",
   "execution_count": 107,
   "metadata": {},
   "outputs": [
    {
     "name": "stdout",
     "output_type": "stream",
     "text": [
      "-------------------------------------------------------------------------------------\n",
      "Train_PPV Desc: [0.40295067 0.30001834 0.27471894 0.26188525 0.21105528 0.18690096\n",
      " 0.03449883]\n",
      "Train_PPV Class Desc: [3 5 4 6 0 2 1]\n",
      "PPV- 7 class classifier: 0.14285714285714285\n",
      "Accuracy of logistic regression Classifier for Training Set is: 0.3140478595562367\n",
      "-------------------------------------------------------------------------------------\n",
      "-------------------------------------------------------------------------------------\n",
      "Test_PPV Desc: [0.43809524 0.33233533 0.3015873  0.25503356 0.21449275 0.17419355\n",
      " 0.03921569]\n",
      "Test_PPV Class Desc: [3 5 4 6 0 2 1]\n",
      "PPV- 7 class classifier: 0.14285714285714285\n",
      "Accuracy of logistic regression Classifier for Test Set is: 0.3123432711061577\n",
      "-------------------------------------------------------------------------------------\n"
     ]
    }
   ],
   "source": [
    "log_reg(Train_pca, Train_labels, Test_pca, Test_labels)"
   ]
  },
  {
   "cell_type": "code",
   "execution_count": 108,
   "metadata": {},
   "outputs": [],
   "source": [
    "Train_data=pd.DataFrame(Train_data)\n",
    "Train_data['labels']=Train_labels\n",
    "Test_data=pd.DataFrame(Test_data)\n",
    "Test_data['labels']=Test_labels"
   ]
  },
  {
   "cell_type": "code",
   "execution_count": 109,
   "metadata": {},
   "outputs": [
    {
     "name": "stderr",
     "output_type": "stream",
     "text": [
      "C:\\Users\\Mr.Khiladi\\Anaconda3\\lib\\site-packages\\sklearn\\utils\\optimize.py:203: ConvergenceWarning: newton-cg failed to converge. Increase the number of iterations.\n",
      "  \"number of iterations.\", ConvergenceWarning)\n"
     ]
    },
    {
     "name": "stdout",
     "output_type": "stream",
     "text": [
      "-------------------------------------------------------------------------------------\n",
      "Train_PPV Desc: [0.63283366 0.5        0.45296709 0.44921597 0.43183549 0.43075\n",
      " 0.29121622]\n",
      "Train_PPV Class Desc: [3 5 4 6 2 0 1]\n",
      "PPV- 7 class classifier: 0.14285714285714285\n",
      "Accuracy of logistic regression Classifier for Training Set is: 0.3140478595562367\n",
      "-------------------------------------------------------------------------------------\n",
      "-------------------------------------------------------------------------------------\n",
      "Test_PPV Desc: [0.50678733 0.34839925 0.29268293 0.25296443 0.23368421 0.21588595\n",
      " 0.07490637]\n",
      "Test_PPV Class Desc: [3 5 6 4 2 0 1]\n",
      "PPV- 7 class classifier: 0.14285714285714285\n",
      "Accuracy of logistic regression Classifier for Test Set is: 0.3123432711061577\n",
      "-------------------------------------------------------------------------------------\n"
     ]
    }
   ],
   "source": [
    "log_reg(Train_data, Train_labels, Test_data, Test_labels)"
   ]
  },
  {
   "cell_type": "code",
   "execution_count": 101,
   "metadata": {},
   "outputs": [
    {
     "data": {
      "text/plain": [
       "array([[ 70,  80,  82, ..., 106, 109,  82],\n",
       "       [151, 150, 147, ..., 193, 183, 184],\n",
       "       [231, 212, 156, ...,  88, 110, 152],\n",
       "       ...,\n",
       "       [ 74,  81,  87, ..., 188, 187, 187],\n",
       "       [222, 227, 203, ..., 136, 136, 134],\n",
       "       [195, 199, 205, ...,   6,  15,  38]], dtype=int64)"
      ]
     },
     "execution_count": 101,
     "metadata": {},
     "output_type": "execute_result"
    }
   ],
   "source": []
  },
  {
   "cell_type": "code",
   "execution_count": null,
   "metadata": {},
   "outputs": [],
   "source": []
  }
 ],
 "metadata": {
  "kernelspec": {
   "display_name": "Python 3",
   "language": "python",
   "name": "python3"
  },
  "language_info": {
   "codemirror_mode": {
    "name": "ipython",
    "version": 3
   },
   "file_extension": ".py",
   "mimetype": "text/x-python",
   "name": "python",
   "nbconvert_exporter": "python",
   "pygments_lexer": "ipython3",
   "version": "3.7.1"
  }
 },
 "nbformat": 4,
 "nbformat_minor": 2
}
