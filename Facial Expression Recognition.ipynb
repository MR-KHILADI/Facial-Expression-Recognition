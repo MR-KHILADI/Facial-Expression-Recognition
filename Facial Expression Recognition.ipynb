{
 "cells": [
  {
   "cell_type": "code",
   "execution_count": 40,
   "metadata": {},
   "outputs": [],
   "source": [
    "import pandas as pd\n",
    "import matplotlib.pyplot as plt\n",
    "import numpy as np\n",
    "import sklearn as sk"
   ]
  },
  {
   "cell_type": "code",
   "execution_count": 2,
   "metadata": {},
   "outputs": [],
   "source": [
    "### Classes: 0=Angry, 1=Disgust, 2=Fear, 3=Happy, 4=Sad, 5=Surprise, 6=Neutral"
   ]
  },
  {
   "cell_type": "code",
   "execution_count": 2,
   "metadata": {},
   "outputs": [],
   "source": [
    "## Data Loading and Splitting\n",
    "data=pd.read_csv(\"../FaceRecognition.csv\")\n",
    "data=data.drop(columns='Unnamed: 0')\n",
    "Train_data=data[data['X2306']=='Training'].drop(columns='X2306')\n",
    "Test_data=data[data['X2306']=='PrivateTest'].drop(columns='X2306')\n",
    "Train_labels=Train_data.iloc[:,0].values\n",
    "Test_labels=Test_data.iloc[:,0].values\n",
    "Train_data=Train_data.drop(columns='X1').values\n",
    "Test_data=Test_data.drop(columns='X1').values\n"
   ]
  },
  {
   "cell_type": "code",
   "execution_count": 3,
   "metadata": {},
   "outputs": [],
   "source": [
    "def vectortoimg(v,show=True):\n",
    "    plt.imshow(v.reshape(48, 48),interpolation='None', cmap='gray')\n",
    "    plt.axis('off')\n",
    "    if show:\n",
    "        plt.show()"
   ]
  },
  {
   "cell_type": "code",
   "execution_count": 4,
   "metadata": {},
   "outputs": [
    {
     "name": "stdout",
     "output_type": "stream",
     "text": [
      "Largest Eigen Value is at Last Index2303\n",
      "Row dot product value: Max/Min 225060.78302759485\n",
      "Column dot product value: Max/Min1.7462298274040222e-10\n",
      "shape of principle_comp_matrix is (28709, 2304)\n"
     ]
    }
   ],
   "source": [
    "### Applying PCA for Dimension Reduction\n",
    "meanvector=np.mean(Train_data,axis=0)\n",
    "Z_Train=Train_data-meanvector\n",
    "C_Train=np.cov(Z_Train.T)  ## Check the shape, should be square matrix with dimensions as number of features : here 2304\n",
    "Eigenvalues,Eigenvectors=np.linalg.eigh(C_Train)\n",
    "print('Largest Eigen Value is at Last Index '+str(np.argmax(Eigenvalues)))  ## Largest Eigen Value is at the last index. So, Flipping is required   \n",
    "row=Eigenvectors[-1,:];col=Eigenvectors[:,-1];\n",
    "print(\"Row dot product value: Max/Min \" + str(max(np.dot(C_Train,row)-(Eigenvalues[-1]*row)))) ## Rows are not eigen vectors\n",
    "print (\"Column dot product value: Max/Min\"+str(max(np.dot(C_Train,col)-(Eigenvalues[-1]*col))))  #### matrix* EigenVector==EigenValue* EigenVector ,Therefore, Columns are EigenVectors\n",
    "## Columns are Eigen Vectors. Taking Transpose and Inverse\n",
    "Eigenvalues=np.flipud(Eigenvalues)\n",
    "Eigenvectors=np.flipud(Eigenvectors.T)\n",
    "row=Eigenvectors[0,:]\n",
    "## Checking Again:\n",
    "min(np.dot(C_Train,row)-(Eigenvalues[0]*row))  ## Rows are eigen vectors here \n",
    "np.allclose(np.dot(C_Train,row),Eigenvalues[0]*row)  ## Check 2  ## We finally got ordered Eigen Vectors and Eigen Values\n",
    "prin_comp=np.dot(Z_Train,Eigenvectors.T)   ### We always have to find principle components this way for Training Data Set\n",
    "print('shape of principle_comp_matrix is '+ str(prin_comp.shape))\n",
    "\n"
   ]
  },
  {
   "cell_type": "code",
   "execution_count": 16,
   "metadata": {},
   "outputs": [],
   "source": [
    "## Selecting Number of Components\n",
    "cumulative_variance=[]\n",
    "net_variance=[]\n",
    "temp=0.0\n",
    "E_sum=np.sum(Eigenvalues)\n",
    "for i in Eigenvalues:\n",
    "    temp=temp+i\n",
    "    cumulative_variance.append(temp*100/E_sum)\n",
    "    net_variance.append(i*100/E_sum)"
   ]
  },
  {
   "cell_type": "code",
   "execution_count": 17,
   "metadata": {},
   "outputs": [
    {
     "data": {
      "image/png": "[encoded data removed]",
      "text/plain": [
       "<Figure size 432x288 with 1 Axes>"
      ]
     },
     "metadata": {
      "needs_background": "light"
     },
     "output_type": "display_data"
    }
   ],
   "source": [
    "plt.plot(range(len(cumulative_variance)),cumulative_variance)\n",
    "plt.title(\"Cumulative Variance\")\n",
    "plt.xlim(right=100,left=-1)\n",
    "plt.xlabel(\"Cumulative Number of Components\")\n",
    "plt.ylabel(\"Variability Explained in %\")\n",
    "plt.grid()"
   ]
  },
  {
   "cell_type": "code",
   "execution_count": 18,
   "metadata": {},
   "outputs": [
    {
     "data": {
      "image/png": "[encoded data removed]",
      "text/plain": [
       "<Figure size 432x288 with 1 Axes>"
      ]
     },
     "metadata": {
      "needs_background": "light"
     },
     "output_type": "display_data"
    }
   ],
   "source": [
    "plt.plot(range(len(net_variance)),net_variance)\n",
    "plt.xlim(right=50,left=-1)\n",
    "plt.title(\"Net Variance\")\n",
    "plt.xlabel(\"Components\")\n",
    "plt.ylabel(\"Variability Explained in %\")\n",
    "plt.grid()"
   ]
  },
  {
   "cell_type": "code",
   "execution_count": 19,
   "metadata": {},
   "outputs": [],
   "source": [
    "pca_num_components=len(list(filter(lambda x: x <= 75, cumulative_variance)))  ### 75% Variability Explained with 19 components"
   ]
  },
  {
   "cell_type": "code",
   "execution_count": 20,
   "metadata": {},
   "outputs": [],
   "source": [
    "Train_pca=pd.DataFrame(prin_comp[:,:pca_num_components])"
   ]
  },
  {
   "cell_type": "code",
   "execution_count": 22,
   "metadata": {},
   "outputs": [
    {
     "data": {
      "text/plain": [
       "(28709, 19)"
      ]
     },
     "execution_count": 22,
     "metadata": {},
     "output_type": "execute_result"
    }
   ],
   "source": [
    "Train_pca.shape"
   ]
  },
  {
   "cell_type": "code",
   "execution_count": 23,
   "metadata": {},
   "outputs": [],
   "source": [
    "Train_pca['labels']=Train_labels"
   ]
  },
  {
   "cell_type": "code",
   "execution_count": 30,
   "metadata": {},
   "outputs": [],
   "source": [
    "#x=np.dot(prin_comp[:,:pca_num_components],Eigenvectors[:pca_num_components,:])+ meanvector"
   ]
  },
  {
   "cell_type": "code",
   "execution_count": 26,
   "metadata": {},
   "outputs": [
    {
     "data": {
      "text/plain": [
       "count    28709.000000\n",
       "mean         3.317427\n",
       "std          1.876632\n",
       "min          0.000000\n",
       "25%          2.000000\n",
       "50%          3.000000\n",
       "75%          5.000000\n",
       "max          6.000000\n",
       "Name: labels, dtype: float64"
      ]
     },
     "execution_count": 26,
     "metadata": {},
     "output_type": "execute_result"
    }
   ],
   "source": [
    "Train_pca['labels'].describe()"
   ]
  },
  {
   "cell_type": "code",
   "execution_count": 34,
   "metadata": {},
   "outputs": [
    {
     "data": {
      "text/plain": [
       "3    7215\n",
       "6    4965\n",
       "4    4830\n",
       "2    4097\n",
       "0    3995\n",
       "5    3171\n",
       "1     436\n",
       "Name: labels, dtype: int64"
      ]
     },
     "execution_count": 34,
     "metadata": {},
     "output_type": "execute_result"
    }
   ],
   "source": [
    "s = Train_pca['labels']\n",
    "s.value_counts(normalize=False)"
   ]
  },
  {
   "cell_type": "code",
   "execution_count": 37,
   "metadata": {},
   "outputs": [
    {
     "data": {
      "text/plain": [
       "436"
      ]
     },
     "execution_count": 37,
     "metadata": {},
     "output_type": "execute_result"
    }
   ],
   "source": [
    "len(Train_pca[Train_pca['labels']==1])"
   ]
  },
  {
   "cell_type": "code",
   "execution_count": 42,
   "metadata": {},
   "outputs": [],
   "source": [
    "from sklearn.model_selection import StratifiedShuffleSplit\n",
    "sss = StratifiedShuffleSplit(n_splits=100, test_size=0.8, random_state=0)"
   ]
  },
  {
   "cell_type": "code",
   "execution_count": 132,
   "metadata": {},
   "outputs": [
    {
     "name": "stdout",
     "output_type": "stream",
     "text": [
      "Desc order ppvs: [0.92307692 0.5847569  0.48598131 0.48362919 0.47985897 0.46678134\n",
      " 0.43641555]\n",
      "Desc order ppv of classes: [1 5 2 0 3 6 4]\n",
      "PPV of any random seven class classifier: 0.14285714285714285\n"
     ]
    }
   ],
   "source": [
    "##### Linear Classifier ##########\n",
    "### Encoding the Target Labels\n",
    "Targets_six = np.zeros((Train_pca.shape[0], max(Train_labels)+1))\n",
    "Targets_six[np.arange(Train_pca.shape[0]), Train_labels] = 1\n",
    "\n",
    "### Preparing augmented matrix\n",
    "xa=pd.DataFrame(Train_data)\n",
    "xa.insert(0,column='ones',value=1)\n",
    "\n",
    "#### Weights\n",
    "weights_six=np.dot(np.linalg.pinv(xa.values),Targets_six)\n",
    "\n",
    "### Training Error\n",
    "pass_train=np.dot(xa,weights_six)\n",
    "train_passed_labels=[]\n",
    "for i in range(len(pass_train)):\n",
    "    train_passed_labels.append(np.argmax(pass_train[i,:]))\n",
    "train_passed_labels=np.array(train_passed_labels)\n",
    "\n",
    "from sklearn.metrics import confusion_matrix\n",
    "cm=confusion_matrix(Train_labels,train_passed_labels,labels=[0,1,2,3,4,5,6])\n",
    "ppv_table=cm/np.sum(cm,axis=0)\n",
    "print('Desc order ppvs: ' + str(np.sort(ppv_table.diagonal())[::-1]))\n",
    "print('Desc order ppv of classes: ' + str(np.argsort(ppv_table.diagonal())[::-1]))\n",
    "print('PPV of any random seven class classifier: ' + str(1/7) )\n",
    "\n"
   ]
  },
  {
   "cell_type": "code",
   "execution_count": 131,
   "metadata": {},
   "outputs": [
    {
     "name": "stdout",
     "output_type": "stream",
     "text": [
      "Desc order ppvs: [0.40295067 0.30001834 0.27471894 0.26188525 0.21105528 0.18690096\n",
      " 0.03449883]\n",
      "Desc order ppv of classes: [3 5 4 6 0 2 1]\n",
      "PPV of any random seven class classifier: 0.14285714285714285\n"
     ]
    }
   ],
   "source": [
    "## Logistic Regression\n",
    "from sklearn.linear_model import LogisticRegression\n",
    "from sklearn.utils import class_weight\n",
    "class_weight=class_weight.compute_class_weight('balanced',np.unique(Train_labels),Train_labels)\n",
    "class_weight = {key: value for (key, value) in zip(range(6),class_weight)}\n",
    "\n",
    "#### Model ##########\n",
    "\n",
    "logreg = LogisticRegression(C=1e10, solver='newton-cg', multi_class='multinomial',random_state=1234,class_weight=class_weight)\n",
    "logreg.fit(Train_pca.iloc[:,:-1], Train_labels)\n",
    "\n",
    "### Predict\n",
    "log_train_pred=logreg.predict(Train_pca.iloc[:,:-1])\n",
    "\n",
    "## Confusion Matrix\n",
    "from sklearn.metrics import confusion_matrix\n",
    "cm=confusion_matrix(Train_labels,log_train_pred,labels=[0,1,2,3,4,5,6])\n",
    "\n",
    "#### PPV\n",
    "\n",
    "ppv_table=cm/np.sum(cm,axis=0)\n",
    "print('Desc order ppvs: ' + str(np.sort(ppv_table.diagonal())[::-1]))\n",
    "print('Desc order ppv of classes: ' + str(np.argsort(ppv_table.diagonal())[::-1]))\n",
    "print('PPV of any random seven class classifier: ' + str(1/7) )"
   ]
  },
  {
   "cell_type": "code",
   "execution_count": null,
   "metadata": {},
   "outputs": [],
   "source": []
  }
 ],
 "metadata": {
  "kernelspec": {
   "display_name": "Python 3",
   "language": "python",
   "name": "python3"
  },
  "language_info": {
   "codemirror_mode": {
    "name": "ipython",
    "version": 3
   },
   "file_extension": ".py",
   "mimetype": "text/x-python",
   "name": "python",
   "nbconvert_exporter": "python",
   "pygments_lexer": "ipython3",
   "version": "3.7.1"
  }
 },
 "nbformat": 4,
 "nbformat_minor": 2
}
