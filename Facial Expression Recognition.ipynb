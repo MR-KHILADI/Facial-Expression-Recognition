{
 "cells": [
  {
   "cell_type": "code",
   "execution_count": 46,
   "metadata": {},
   "outputs": [],
   "source": [
    "import pandas as pd\n",
    "import matplotlib.pyplot as plt\n",
    "import numpy as np"
   ]
  },
  {
   "cell_type": "code",
   "execution_count": 47,
   "metadata": {},
   "outputs": [],
   "source": [
    "### Classes: 0=Angry, 1=Disgust, 2=Fear, 3=Happy, 4=Sad, 5=Surprise, 6=Neutral"
   ]
  },
  {
   "cell_type": "code",
   "execution_count": 51,
   "metadata": {},
   "outputs": [],
   "source": [
    "## Data Loading and Splitting\n",
    "data=pd.read_csv(\"../FaceRecognition.csv\")\n",
    "data=data.drop(columns='Unnamed: 0')\n",
    "Train_data=data[data['X2306']=='Training'].drop(columns='X2306')\n",
    "Test_data=data[data['X2306']=='PrivateTest'].drop(columns='X2306')\n",
    "Train_labels=Train_data.iloc[:,0].values\n",
    "Test_labels=Test_data.iloc[:,0].values\n",
    "Train_data=Train_data.drop(columns='X1').values\n",
    "Test_data=Test_data.drop(columns='X1').values\n"
   ]
  },
  {
   "cell_type": "code",
   "execution_count": 52,
   "metadata": {},
   "outputs": [],
   "source": [
    "def vectortoimg(v,show=True):\n",
    "    plt.imshow(v.reshape(48, 48),interpolation='None', cmap='gray')\n",
    "    plt.axis('off')\n",
    "    if show:\n",
    "        plt.show()"
   ]
  },
  {
   "cell_type": "code",
   "execution_count": 53,
   "metadata": {},
   "outputs": [
    {
     "data": {
      "image/png": "[encoded data removed]",
      "text/plain": [
       "<Figure size 432x288 with 1 Axes>"
      ]
     },
     "metadata": {
      "needs_background": "light"
     },
     "output_type": "display_data"
    }
   ],
   "source": [
    "vectortoimg(Train_data[10])"
   ]
  },
  {
   "cell_type": "code",
   "execution_count": 54,
   "metadata": {},
   "outputs": [],
   "source": [
    "### Applying PCA for Dimension Reduction\n",
    "meanvector=np.mean(Train_data,axis=0)\n"
   ]
  },
  {
   "cell_type": "code",
   "execution_count": 55,
   "metadata": {},
   "outputs": [],
   "source": [
    "Z_Train=Train_data-meanvector"
   ]
  },
  {
   "cell_type": "code",
   "execution_count": 61,
   "metadata": {},
   "outputs": [
    {
     "data": {
      "image/png": "[encoded data removed]",
      "text/plain": [
       "<Figure size 432x288 with 1 Axes>"
      ]
     },
     "metadata": {
      "needs_background": "light"
     },
     "output_type": "display_data"
    }
   ],
   "source": [
    "vectortoimg(meanvector)"
   ]
  },
  {
   "cell_type": "code",
   "execution_count": 63,
   "metadata": {},
   "outputs": [],
   "source": [
    "C_Train=np.cov(Z_Train.T)  ## Check the shape, should be square matrix with dimensions as number of features : here 2304"
   ]
  },
  {
   "cell_type": "code",
   "execution_count": 65,
   "metadata": {},
   "outputs": [],
   "source": [
    "Eigenvalues,Eigenvectors=np.linalg.eigh(C_Train)"
   ]
  },
  {
   "cell_type": "code",
   "execution_count": 66,
   "metadata": {},
   "outputs": [
    {
     "data": {
      "text/plain": [
       "2303"
      ]
     },
     "execution_count": 66,
     "metadata": {},
     "output_type": "execute_result"
    }
   ],
   "source": [
    "np.argmax(Eigenvalues)  ## Largest Eigen Value is at the last index. So, Flipping is required   "
   ]
  },
  {
   "cell_type": "code",
   "execution_count": 71,
   "metadata": {},
   "outputs": [
    {
     "name": "stdout",
     "output_type": "stream",
     "text": [
      "Row dot product value: Max/Min 225060.78302759485\n",
      "Column dot product value: Max/Min1.7462298274040222e-10\n"
     ]
    }
   ],
   "source": [
    "row=Eigenvectors[-1,:];col=Eigenvectors[:,-1];\n",
    "print(\"Row dot product value: Max/Min \" + str(max(np.dot(C_Train,row)-(Eigenvalues[-1]*row)))) ## Rows are not eigen vectors\n",
    "print (\"Column dot product value: Max/Min\"+str(max(np.dot(C_Train,col)-(Eigenvalues[-1]*col))))  #### matrix* EigenVector==EigenValue* EigenVector ,Therefore, Columns are EigenVectors"
   ]
  },
  {
   "cell_type": "code",
   "execution_count": 72,
   "metadata": {},
   "outputs": [],
   "source": [
    "## Columns are Eigen Vectors. Taking Transpose and Inverse\n",
    "Eigenvalues=np.flipud(Eigenvalues)\n",
    "Eigenvectors=np.flipud(Eigenvectors.T)\n"
   ]
  },
  {
   "cell_type": "code",
   "execution_count": 74,
   "metadata": {},
   "outputs": [
    {
     "data": {
      "text/plain": [
       "-7.057678885757923e-10"
      ]
     },
     "execution_count": 74,
     "metadata": {},
     "output_type": "execute_result"
    }
   ],
   "source": [
    "row=Eigenvectors[0,:]\n",
    "## Checking Again:\n",
    "min(np.dot(C_Train,row)-(Eigenvalues[0]*row))  ## Rows are eigen vectors here \n",
    "\n"
   ]
  },
  {
   "cell_type": "code",
   "execution_count": 76,
   "metadata": {},
   "outputs": [
    {
     "data": {
      "text/plain": [
       "True"
      ]
     },
     "execution_count": 76,
     "metadata": {},
     "output_type": "execute_result"
    }
   ],
   "source": [
    "np.allclose(np.dot(C_Train,row),Eigenvalues[0]*row)  ## Check 2  ## We finally got ordered Eigen Vectors and Eigen Values"
   ]
  },
  {
   "cell_type": "code",
   "execution_count": 78,
   "metadata": {},
   "outputs": [],
   "source": [
    "prin_comp=np.dot(Z_Train,Eigenvectors.T)   ### We always have to find principle components this way for Training Data Set"
   ]
  },
  {
   "cell_type": "code",
   "execution_count": 80,
   "metadata": {},
   "outputs": [
    {
     "data": {
      "text/plain": [
       "(28709, 2304)"
      ]
     },
     "execution_count": 80,
     "metadata": {},
     "output_type": "execute_result"
    }
   ],
   "source": [
    "prin_comp.shape"
   ]
  },
  {
   "cell_type": "code",
   "execution_count": 169,
   "metadata": {},
   "outputs": [
    {
     "data": {
      "text/plain": [
       "array([2.66218450e+06, 9.02562303e+05, 8.70360713e+05, ...,\n",
       "       4.05537675e+00, 4.01708190e+00, 3.67712297e+00])"
      ]
     },
     "execution_count": 169,
     "metadata": {},
     "output_type": "execute_result"
    }
   ],
   "source": [
    "### How many Principle Components to use:\n",
    "\n",
    "Eigenvalues"
   ]
  },
  {
   "cell_type": "code",
   "execution_count": 184,
   "metadata": {},
   "outputs": [],
   "source": [
    "cumulative_variance=[]\n",
    "net_variance=[]\n",
    "temp=0.0\n",
    "E_sum=np.sum(Eigenvalues)\n",
    "for i in Eigenvalues:\n",
    "    temp=temp+i\n",
    "    cumulative_variance.append(temp*100/E_sum)\n",
    "    net_variance.append(i*100/E_sum)\n",
    "    "
   ]
  },
  {
   "cell_type": "code",
   "execution_count": 211,
   "metadata": {},
   "outputs": [
    {
     "data": {
      "image/png": "[encoded data removed]",
      "text/plain": [
       "<Figure size 432x288 with 1 Axes>"
      ]
     },
     "metadata": {
      "needs_background": "light"
     },
     "output_type": "display_data"
    }
   ],
   "source": [
    "plt.plot(range(len(cumulative_variance)),cumulative_variance)\n",
    "plt.title(\"Cumulative Variance\")\n",
    "plt.xlim(right=100,left=-1)\n",
    "plt.xlabel(\"Cumulative Number of Components\")\n",
    "plt.ylabel(\"Variability Explained in %\")\n",
    "plt.grid()\n"
   ]
  },
  {
   "cell_type": "code",
   "execution_count": 212,
   "metadata": {},
   "outputs": [
    {
     "data": {
      "image/png": "[encoded data removed]",
      "text/plain": [
       "<Figure size 432x288 with 1 Axes>"
      ]
     },
     "metadata": {
      "needs_background": "light"
     },
     "output_type": "display_data"
    }
   ],
   "source": [
    "plt.plot(range(len(net_variance)),net_variance)\n",
    "plt.xlim(right=50,left=-1)\n",
    "plt.title(\"Net Variance\")\n",
    "plt.xlabel(\"Components\")\n",
    "plt.ylabel(\"Variability Explained in %\")\n",
    "plt.grid()\n"
   ]
  },
  {
   "cell_type": "code",
   "execution_count": 225,
   "metadata": {},
   "outputs": [],
   "source": [
    "pca_num_components=len(list(filter(lambda x: x <= 75, cumulative_variance)))  ### 75% Variability Explained with 19 components"
   ]
  },
  {
   "cell_type": "code",
   "execution_count": 231,
   "metadata": {},
   "outputs": [],
   "source": [
    "Train_pca=pd.DataFrame(prin_comp[:,:pca_num_components])"
   ]
  },
  {
   "cell_type": "code",
   "execution_count": 235,
   "metadata": {},
   "outputs": [
    {
     "data": {
      "text/plain": [
       "(28709, 19)"
      ]
     },
     "execution_count": 235,
     "metadata": {},
     "output_type": "execute_result"
    }
   ],
   "source": []
  },
  {
   "cell_type": "code",
   "execution_count": 247,
   "metadata": {},
   "outputs": [
    {
     "data": {
      "text/plain": [
       "5729.926150567473"
      ]
     },
     "execution_count": 247,
     "metadata": {},
     "output_type": "execute_result"
    }
   ],
   "source": [
    "np.max(pd.DataFrame.max(Train_pca).values)"
   ]
  },
  {
   "cell_type": "code",
   "execution_count": 248,
   "metadata": {},
   "outputs": [
    {
     "data": {
      "text/plain": [
       "-5996.369551655992"
      ]
     },
     "execution_count": 248,
     "metadata": {},
     "output_type": "execute_result"
    }
   ],
   "source": [
    "np.min(pd.DataFrame.min(Train_pca).values)"
   ]
  },
  {
   "cell_type": "code",
   "execution_count": 259,
   "metadata": {},
   "outputs": [],
   "source": [
    "mins=pd.DataFrame.min(Train_pca).values\n",
    "maxs=pd.DataFrame.max(Train_pca).values"
   ]
  },
  {
   "cell_type": "code",
   "execution_count": 261,
   "metadata": {},
   "outputs": [
    {
     "data": {
      "text/plain": [
       "-5996.369551655992"
      ]
     },
     "execution_count": 261,
     "metadata": {},
     "output_type": "execute_result"
    }
   ],
   "source": []
  },
  {
   "cell_type": "code",
   "execution_count": 257,
   "metadata": {},
   "outputs": [
    {
     "data": {
      "text/plain": [
       "14.0"
      ]
     },
     "execution_count": 257,
     "metadata": {},
     "output_type": "execute_result"
    }
   ],
   "source": [
    "np.ceil(np.log2(28709/7))+1  ### Number of bins"
   ]
  },
  {
   "cell_type": "code",
   "execution_count": 217,
   "metadata": {},
   "outputs": [],
   "source": [
    "#x=np.dot(prin_comp[:,:pca_num_components],Eigenvectors[:pca_num_components,:])+ meanvector"
   ]
  },
  {
   "cell_type": "code",
   "execution_count": null,
   "metadata": {},
   "outputs": [],
   "source": [
    "def Hist2D(mydata,mybins): ## Insert a dataframe\n",
    "    min1=min(mydata[\"pc1\"])\n",
    "    min2=min(mydata[\"pc2\"])\n",
    "    max1=max(mydata[\"pc1\"])\n",
    "    max2=max(mydata[\"pc2\"])\n",
    "    mins\n",
    "    maxs\n",
    "    \n",
    "    \n",
    "    HN=np.zeros(shape=(mybins,mybins)).astype('int32')\n",
    "    HP=np.zeros(shape=(mybins,mybins)).astype('int32')\n",
    "    row=[round(((mybins-1)*((xi-min1)/(max1-min1)))) for xi in mydata[\"pc1\"]]\n",
    "    col=[round(((mybins-1)*((xj-min2)/(max2-min2)))) for xj in mydata[\"pc2\"]]\n",
    "    for i in range(len(mydata)):\n",
    "        if mydata.iloc[i,2]==6:\n",
    "            HN[row[i],col[i]]+=1\n",
    "        else:\n",
    "            HP[row[i],col[i]]+=1\n",
    "    return HN,HP\n",
    "        "
   ]
  },
  {
   "cell_type": "code",
   "execution_count": null,
   "metadata": {},
   "outputs": [],
   "source": []
  },
  {
   "cell_type": "code",
   "execution_count": null,
   "metadata": {},
   "outputs": [],
   "source": []
  },
  {
   "cell_type": "code",
   "execution_count": null,
   "metadata": {},
   "outputs": [],
   "source": []
  },
  {
   "cell_type": "code",
   "execution_count": null,
   "metadata": {},
   "outputs": [],
   "source": []
  }
 ],
 "metadata": {
  "kernelspec": {
   "display_name": "Python 3",
   "language": "python",
   "name": "python3"
  },
  "language_info": {
   "codemirror_mode": {
    "name": "ipython",
    "version": 3
   },
   "file_extension": ".py",
   "mimetype": "text/x-python",
   "name": "python",
   "nbconvert_exporter": "python",
   "pygments_lexer": "ipython3",
   "version": "3.6.7"
  }
 },
 "nbformat": 4,
 "nbformat_minor": 2
}
